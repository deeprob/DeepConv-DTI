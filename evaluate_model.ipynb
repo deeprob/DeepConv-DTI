{
 "cells": [
  {
   "cell_type": "code",
   "execution_count": 3,
   "id": "19804cad",
   "metadata": {},
   "outputs": [],
   "source": [
    "import pandas as pd\n",
    "import numpy as np"
   ]
  },
  {
   "cell_type": "markdown",
   "id": "fa45718d",
   "metadata": {},
   "source": [
    "# Validation dataset evaluation"
   ]
  },
  {
   "cell_type": "code",
   "execution_count": 4,
   "id": "283d3d46",
   "metadata": {},
   "outputs": [],
   "source": [
    "predicted_dti_file = \"./validation_predictions.csv\"\n",
    "\n",
    "predicted_dti_df = pd.read_csv(predicted_dti_file, skiprows=1, usecols=[0,1,2,3])\n",
    "\n",
    "pdti_df = predicted_dti_df.sort_values(by=[\"Protein_ID\", \"Compound_ID\"]).drop_duplicates(subset = [\"Protein_ID\", \"Compound_ID\"], keep=False)"
   ]
  },
  {
   "cell_type": "code",
   "execution_count": 7,
   "id": "1c735b1d",
   "metadata": {},
   "outputs": [
    {
     "data": {
      "text/plain": [
       "6207"
      ]
     },
     "execution_count": 7,
     "metadata": {},
     "output_type": "execute_result"
    }
   ],
   "source": [
    "len(pdti_df)"
   ]
  },
  {
   "cell_type": "markdown",
   "id": "7201f993",
   "metadata": {},
   "source": [
    "## Check positive accuracy"
   ]
  },
  {
   "cell_type": "code",
   "execution_count": 9,
   "id": "e734c7a6",
   "metadata": {},
   "outputs": [],
   "source": [
    "threshold = 0.49781653"
   ]
  },
  {
   "cell_type": "code",
   "execution_count": 11,
   "id": "fe8b1a74",
   "metadata": {},
   "outputs": [
    {
     "data": {
      "text/html": [
       "<div>\n",
       "<style scoped>\n",
       "    .dataframe tbody tr th:only-of-type {\n",
       "        vertical-align: middle;\n",
       "    }\n",
       "\n",
       "    .dataframe tbody tr th {\n",
       "        vertical-align: top;\n",
       "    }\n",
       "\n",
       "    .dataframe thead th {\n",
       "        text-align: right;\n",
       "    }\n",
       "</style>\n",
       "<table border=\"1\" class=\"dataframe\">\n",
       "  <thead>\n",
       "    <tr style=\"text-align: right;\">\n",
       "      <th></th>\n",
       "      <th>predicted</th>\n",
       "      <th>Compound_ID</th>\n",
       "      <th>Protein_ID</th>\n",
       "      <th>label</th>\n",
       "    </tr>\n",
       "  </thead>\n",
       "  <tbody>\n",
       "    <tr>\n",
       "      <th>4709</th>\n",
       "      <td>0.577944</td>\n",
       "      <td>SUB-2459</td>\n",
       "      <td>A0A024CDT8</td>\n",
       "      <td>0</td>\n",
       "    </tr>\n",
       "    <tr>\n",
       "      <th>4708</th>\n",
       "      <td>0.349441</td>\n",
       "      <td>SUB-6478</td>\n",
       "      <td>A0A024CDT8</td>\n",
       "      <td>1</td>\n",
       "    </tr>\n",
       "  </tbody>\n",
       "</table>\n",
       "</div>"
      ],
      "text/plain": [
       "      predicted Compound_ID  Protein_ID  label\n",
       "4709   0.577944    SUB-2459  A0A024CDT8      0\n",
       "4708   0.349441    SUB-6478  A0A024CDT8      1"
      ]
     },
     "execution_count": 11,
     "metadata": {},
     "output_type": "execute_result"
    }
   ],
   "source": [
    "pdti_df.head(2)"
   ]
  },
  {
   "cell_type": "code",
   "execution_count": 12,
   "id": "e67f292e",
   "metadata": {},
   "outputs": [
    {
     "data": {
      "text/plain": [
       "0.5562091503267974"
      ]
     },
     "execution_count": 12,
     "metadata": {},
     "output_type": "execute_result"
    }
   ],
   "source": [
    "pos_df = pdti_df.loc[pdti_df.label==1]\n",
    "sum(pos_df.predicted.values>threshold)/ len(pos_df)"
   ]
  },
  {
   "cell_type": "markdown",
   "id": "99f39432",
   "metadata": {},
   "source": [
    "## Check negative accuracy"
   ]
  },
  {
   "cell_type": "code",
   "execution_count": 14,
   "id": "0c1fd97a",
   "metadata": {},
   "outputs": [
    {
     "data": {
      "text/plain": [
       "0.5954877661264697"
      ]
     },
     "execution_count": 14,
     "metadata": {},
     "output_type": "execute_result"
    }
   ],
   "source": [
    "neg_df = pdti_df.loc[pdti_df.label==0]\n",
    "sum(neg_df.predicted.values<=threshold)/ len(neg_df)"
   ]
  },
  {
   "cell_type": "markdown",
   "id": "fb22b369",
   "metadata": {},
   "source": [
    "# Kegg test dataset evaluation"
   ]
  },
  {
   "cell_type": "code",
   "execution_count": 15,
   "id": "a7f586f1",
   "metadata": {},
   "outputs": [],
   "source": [
    "predicted_testdti_file = \"./test_predictions.csv\"\n",
    "\n",
    "predicted_testdti_df = pd.read_csv(predicted_testdti_file, skiprows=1, usecols=[0,1,2])\n",
    "\n",
    "pdtitest_df = predicted_testdti_df.sort_values(by=[\"Protein_ID\", \"Compound_ID\"]).drop_duplicates(subset = [\"Protein_ID\", \"Compound_ID\"], keep=False)"
   ]
  },
  {
   "cell_type": "code",
   "execution_count": 16,
   "id": "f4fa53bd",
   "metadata": {},
   "outputs": [
    {
     "data": {
      "text/html": [
       "<div>\n",
       "<style scoped>\n",
       "    .dataframe tbody tr th:only-of-type {\n",
       "        vertical-align: middle;\n",
       "    }\n",
       "\n",
       "    .dataframe tbody tr th {\n",
       "        vertical-align: top;\n",
       "    }\n",
       "\n",
       "    .dataframe thead th {\n",
       "        text-align: right;\n",
       "    }\n",
       "</style>\n",
       "<table border=\"1\" class=\"dataframe\">\n",
       "  <thead>\n",
       "    <tr style=\"text-align: right;\">\n",
       "      <th></th>\n",
       "      <th>predicted</th>\n",
       "      <th>Compound_ID</th>\n",
       "      <th>Protein_ID</th>\n",
       "    </tr>\n",
       "  </thead>\n",
       "  <tbody>\n",
       "    <tr>\n",
       "      <th>16373</th>\n",
       "      <td>0.302206</td>\n",
       "      <td>C00007</td>\n",
       "      <td>aab:A4R43_03205_1.14.20.1</td>\n",
       "    </tr>\n",
       "    <tr>\n",
       "      <th>23513</th>\n",
       "      <td>0.237598</td>\n",
       "      <td>C00026</td>\n",
       "      <td>aab:A4R43_03205_1.14.20.1</td>\n",
       "    </tr>\n",
       "    <tr>\n",
       "      <th>35881</th>\n",
       "      <td>0.639284</td>\n",
       "      <td>C06564</td>\n",
       "      <td>aab:A4R43_03205_1.14.20.1</td>\n",
       "    </tr>\n",
       "    <tr>\n",
       "      <th>28682</th>\n",
       "      <td>0.351581</td>\n",
       "      <td>C00011</td>\n",
       "      <td>aab:A4R43_03240_1.14.11.26</td>\n",
       "    </tr>\n",
       "    <tr>\n",
       "      <th>28567</th>\n",
       "      <td>0.406873</td>\n",
       "      <td>C00042</td>\n",
       "      <td>aab:A4R43_03240_1.14.11.26</td>\n",
       "    </tr>\n",
       "    <tr>\n",
       "      <th>...</th>\n",
       "      <td>...</td>\n",
       "      <td>...</td>\n",
       "      <td>...</td>\n",
       "    </tr>\n",
       "    <tr>\n",
       "      <th>24264</th>\n",
       "      <td>0.462678</td>\n",
       "      <td>C00082</td>\n",
       "      <td>zro:ZYRO0G05346g_2.6.1.58</td>\n",
       "    </tr>\n",
       "    <tr>\n",
       "      <th>14743</th>\n",
       "      <td>0.338377</td>\n",
       "      <td>C00007</td>\n",
       "      <td>zro:ZYRO0G15466g_1.13.12.16</td>\n",
       "    </tr>\n",
       "    <tr>\n",
       "      <th>27283</th>\n",
       "      <td>0.369799</td>\n",
       "      <td>C01847</td>\n",
       "      <td>zro:ZYRO0G15466g_1.13.12.16</td>\n",
       "    </tr>\n",
       "    <tr>\n",
       "      <th>27428</th>\n",
       "      <td>0.532567</td>\n",
       "      <td>C18091</td>\n",
       "      <td>zro:ZYRO0G15466g_1.13.12.16</td>\n",
       "    </tr>\n",
       "    <tr>\n",
       "      <th>67091</th>\n",
       "      <td>0.381863</td>\n",
       "      <td>C00740</td>\n",
       "      <td>zro:ZYRO0G19404g_4.3.1.18</td>\n",
       "    </tr>\n",
       "  </tbody>\n",
       "</table>\n",
       "<p>68209 rows × 3 columns</p>\n",
       "</div>"
      ],
      "text/plain": [
       "       predicted Compound_ID                   Protein_ID\n",
       "16373   0.302206      C00007    aab:A4R43_03205_1.14.20.1\n",
       "23513   0.237598      C00026    aab:A4R43_03205_1.14.20.1\n",
       "35881   0.639284      C06564    aab:A4R43_03205_1.14.20.1\n",
       "28682   0.351581      C00011   aab:A4R43_03240_1.14.11.26\n",
       "28567   0.406873      C00042   aab:A4R43_03240_1.14.11.26\n",
       "...          ...         ...                          ...\n",
       "24264   0.462678      C00082    zro:ZYRO0G05346g_2.6.1.58\n",
       "14743   0.338377      C00007  zro:ZYRO0G15466g_1.13.12.16\n",
       "27283   0.369799      C01847  zro:ZYRO0G15466g_1.13.12.16\n",
       "27428   0.532567      C18091  zro:ZYRO0G15466g_1.13.12.16\n",
       "67091   0.381863      C00740    zro:ZYRO0G19404g_4.3.1.18\n",
       "\n",
       "[68209 rows x 3 columns]"
      ]
     },
     "execution_count": 16,
     "metadata": {},
     "output_type": "execute_result"
    }
   ],
   "source": [
    "pdtitest_df"
   ]
  },
  {
   "cell_type": "code",
   "execution_count": 19,
   "id": "1c64345d",
   "metadata": {},
   "outputs": [
    {
     "data": {
      "text/plain": [
       "0.46515855678869356"
      ]
     },
     "execution_count": 19,
     "metadata": {},
     "output_type": "execute_result"
    }
   ],
   "source": [
    "sum(pdtitest_df.predicted.values>threshold)/len(pdtitest_df)"
   ]
  },
  {
   "cell_type": "code",
   "execution_count": null,
   "id": "1a525d7a",
   "metadata": {},
   "outputs": [],
   "source": []
  }
 ],
 "metadata": {
  "kernelspec": {
   "display_name": "Python 3",
   "language": "python",
   "name": "python3"
  },
  "language_info": {
   "codemirror_mode": {
    "name": "ipython",
    "version": 3
   },
   "file_extension": ".py",
   "mimetype": "text/x-python",
   "name": "python",
   "nbconvert_exporter": "python",
   "pygments_lexer": "ipython3",
   "version": "3.7.10"
  }
 },
 "nbformat": 4,
 "nbformat_minor": 5
}
